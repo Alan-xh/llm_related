{
 "cells": [
  {
   "cell_type": "code",
<<<<<<< HEAD
   "execution_count": 7,
=======
   "execution_count": 13,
>>>>>>> b24892f54fb556a9ba0ebdb59207dfe785d6703c
   "metadata": {},
   "outputs": [],
   "source": [
    "from openai import OpenAI\n",
<<<<<<< HEAD
    "client = OpenAI(base_url='https://ark.cn-beijing.volces.com/api/v3/', api_key='8ca11906-427f-40de-b326-cc9c7fcb9913')"
=======
    "client = OpenAI(base_url='http://10.250.2.24:8222/v1', api_key='nn')"
>>>>>>> b24892f54fb556a9ba0ebdb59207dfe785d6703c
   ]
  },
  {
   "cell_type": "code",
<<<<<<< HEAD
   "execution_count": 8,
=======
   "execution_count": 14,
>>>>>>> b24892f54fb556a9ba0ebdb59207dfe785d6703c
   "metadata": {},
   "outputs": [],
   "source": [
    "SYSTEM_PROMPT = \"\"\"\n",
    "按照如下格式生成：\n",
    "<think>\n",
    "...\n",
    "</think>\n",
    "<answer>\n",
    "...\n",
    "</answer>\n",
    "\"\"\""
   ]
  },
  {
   "cell_type": "code",
<<<<<<< HEAD
   "execution_count": 9,
=======
   "execution_count": 22,
>>>>>>> b24892f54fb556a9ba0ebdb59207dfe785d6703c
   "metadata": {},
   "outputs": [
    {
     "name": "stdout",
     "output_type": "stream",
     "text": [
      "<think>\n",
<<<<<<< HEAD
      "这道题需要考虑不同的情况。“树上七个猴”可能存在两种理解，一种是“树上七只猴”，另一种可能是“树上骑只猴”。\n",
      "如果是“树上七只猴”，那么猴子总数就是树下的1只加上树上的7只，即1 + 7 = 8只。\n",
      "如果是“树上骑只猴”，那么猴子总数就是树下的1只加上树上骑的1只，即1 + 1 = 2只。\n",
      "</think>\n",
      "<answer>\n",
      "存在两种情况，如果“树上七个猴”指的是树上有七只猴，那么一共有8只猴；如果“树上七个猴”指的是树上骑只猴，那么一共有2只猴。\n",
      "</answer>\n"
=======
      "树下一只猴，树上骑个猴，所以一共是2只猴。\n",
      "</think>\n",
      "<answer>\n",
      "4\n",
      "</answer>\n",
      "\n"
>>>>>>> b24892f54fb556a9ba0ebdb59207dfe785d6703c
     ]
    }
   ],
   "source": [
    "res = client.chat.completions.create(\n",
<<<<<<< HEAD
    "    model=\"doubao-1.5-pro-32k-250115\",\n",
    "    messages=[{\"role\": \"system\", \"content\": SYSTEM_PROMPT}, {\"role\": \"user\", \"content\": '树下一只猴？树上七个猴？请问一共几只猴？'}],\n",
=======
    "    model=\"ddd\",\n",
    "    messages=[{\"role\": \"system\", \"content\": SYSTEM_PROMPT}, {\"role\": \"user\", \"content\": '树下一只猴？树上骑个猴？请问一共几只猴？'}],\n",
>>>>>>> b24892f54fb556a9ba0ebdb59207dfe785d6703c
    "    temperature=0\n",
    ")\n",
    "print(res.choices[0].message.content)"
   ]
  },
  {
   "cell_type": "code",
<<<<<<< HEAD
   "execution_count": 4,
=======
   "execution_count": 36,
>>>>>>> b24892f54fb556a9ba0ebdb59207dfe785d6703c
   "metadata": {},
   "outputs": [],
   "source": [
    "from langchain_openai import ChatOpenAI\n",
<<<<<<< HEAD
    "llm = ChatOpenAI(temperature=0, base_url='https://api.siliconflow.cn/v1/', api_key='sk-qshjfdyffweylatywjoktaxdtgjfcxmpubdkcxttwkmwlfyi', model='Qwen/QwQ-32B')"
=======
    "llm = ChatOpenAI(temperature=0, base_url='http://10.250.2.24:8222/v1', api_key='nn', model='ddd')"
>>>>>>> b24892f54fb556a9ba0ebdb59207dfe785d6703c
   ]
  },
  {
   "cell_type": "code",
<<<<<<< HEAD
   "execution_count": 5,
=======
   "execution_count": 37,
>>>>>>> b24892f54fb556a9ba0ebdb59207dfe785d6703c
   "metadata": {},
   "outputs": [
    {
     "data": {
      "text/plain": [
<<<<<<< HEAD
       "AIMessage(content='', additional_kwargs={'refusal': None}, response_metadata={'token_usage': {'completion_tokens': 4096, 'prompt_tokens': 27, 'total_tokens': 4123, 'completion_tokens_details': None, 'prompt_tokens_details': None}, 'model_name': 'Qwen/QwQ-32B', 'system_fingerprint': '', 'id': '0195db72afa4af4caed3a0a59fbaec76', 'finish_reason': 'length', 'logprobs': None}, id='run-e9cafc73-7b98-4065-a4c7-5ffcbb0ed9f7-0', usage_metadata={'input_tokens': 27, 'output_tokens': 4096, 'total_tokens': 4123, 'input_token_details': {}, 'output_token_details': {}})"
      ]
     },
     "execution_count": 5,
=======
       "AIMessage(content='树下一只猴，树上骑个猴，一共是3只猴。', additional_kwargs={'refusal': None}, response_metadata={'token_usage': {'completion_tokens': 18, 'prompt_tokens': 46, 'total_tokens': 64, 'completion_tokens_details': None, 'prompt_tokens_details': None}, 'model_name': 'ddd', 'system_fingerprint': None, 'finish_reason': 'stop', 'logprobs': None}, id='run-0b6d6d1f-3fd2-4dda-9916-1194b853650b-0', usage_metadata={'input_tokens': 46, 'output_tokens': 18, 'total_tokens': 64})"
      ]
     },
     "execution_count": 37,
>>>>>>> b24892f54fb556a9ba0ebdb59207dfe785d6703c
     "metadata": {},
     "output_type": "execute_result"
    }
   ],
   "source": [
<<<<<<< HEAD
    "llm.invoke('树下一只猴？树上七个猴？请问一共几只猴？')"
=======
    "llm.invoke('树下一只猴？树上骑个猴？请问一共几只猴？')"
>>>>>>> b24892f54fb556a9ba0ebdb59207dfe785d6703c
   ]
  }
 ],
 "metadata": {
  "kernelspec": {
<<<<<<< HEAD
   "display_name": "test",
=======
   "display_name": "wyf",
>>>>>>> b24892f54fb556a9ba0ebdb59207dfe785d6703c
   "language": "python",
   "name": "python3"
  },
  "language_info": {
   "codemirror_mode": {
    "name": "ipython",
    "version": 3
   },
   "file_extension": ".py",
   "mimetype": "text/x-python",
   "name": "python",
   "nbconvert_exporter": "python",
   "pygments_lexer": "ipython3",
<<<<<<< HEAD
   "version": "3.10.0"
=======
   "version": "3.11.0"
>>>>>>> b24892f54fb556a9ba0ebdb59207dfe785d6703c
  }
 },
 "nbformat": 4,
 "nbformat_minor": 2
}
