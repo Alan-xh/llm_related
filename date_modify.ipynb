{
 "cells": [
  {
   "cell_type": "code",
<<<<<<< HEAD
   "execution_count": 2,
=======
   "execution_count": null,
>>>>>>> b24892f54fb556a9ba0ebdb59207dfe785d6703c
   "metadata": {},
   "outputs": [],
   "source": [
    "from langchain_openai import ChatOpenAI\n",
<<<<<<< HEAD
    "llm = ChatOpenAI(temperature=0, model=\"/data/Qwen2.5-14B-Instruct-AWQ\", api_key=\"nn\", base_url='http://119.119.118.56:8001/v1')"
=======
    "llm = ChatOpenAI(temperature=0, model=\"qwen2\", api_key=\"nn\", base_url='http://***/v1')"
>>>>>>> b24892f54fb556a9ba0ebdb59207dfe785d6703c
   ]
  },
  {
   "cell_type": "code",
<<<<<<< HEAD
   "execution_count": 3,
   "metadata": {},
   "outputs": [
    {
     "data": {
      "text/plain": [
       "'2022年的中秋节是在9月10日。中秋节是中国的传统节日，通常在农历的八月十五日庆祝，但日期根据阳历会有变化。'"
      ]
     },
     "execution_count": 3,
     "metadata": {},
     "output_type": "execute_result"
    }
   ],
=======
   "execution_count": null,
   "metadata": {},
   "outputs": [],
>>>>>>> b24892f54fb556a9ba0ebdb59207dfe785d6703c
   "source": [
    "llm.invoke('去年中秋节是哪天？').content"
   ]
  },
  {
   "cell_type": "code",
<<<<<<< HEAD
   "execution_count": 4,
   "metadata": {},
   "outputs": [
    {
     "data": {
      "text/plain": [
       "AIMessage(content='', additional_kwargs={'tool_calls': [{'id': 'chatcmpl-tool-9dba975f715e40b0bd1a39ee296b7a85', 'function': {'arguments': '{\"item\": \"笔记本\", \"start\": \"2023-01-12\", \"end\": \"2023-02-01\"}', 'name': 'get_item_info'}, 'type': 'function'}], 'refusal': None}, response_metadata={'token_usage': {'completion_tokens': 51, 'prompt_tokens': 233, 'total_tokens': 284, 'completion_tokens_details': None, 'prompt_tokens_details': None}, 'model_name': '/data/Qwen2.5-14B-Instruct-AWQ', 'system_fingerprint': None, 'id': 'chatcmpl-287f9d31f15a47d48a4630e66f0879d8', 'finish_reason': 'tool_calls', 'logprobs': None}, id='run-5e40a8be-b99b-4de9-bb14-b5b52d0211f8-0', tool_calls=[{'name': 'get_item_info', 'args': {'item': '笔记本', 'start': '2023-01-12', 'end': '2023-02-01'}, 'id': 'chatcmpl-tool-9dba975f715e40b0bd1a39ee296b7a85', 'type': 'tool_call'}], usage_metadata={'input_tokens': 233, 'output_tokens': 51, 'total_tokens': 284, 'input_token_details': {}, 'output_token_details': {}})"
      ]
     },
     "execution_count": 4,
     "metadata": {},
     "output_type": "execute_result"
    }
   ],
=======
   "execution_count": null,
   "metadata": {},
   "outputs": [],
>>>>>>> b24892f54fb556a9ba0ebdb59207dfe785d6703c
   "source": [
    "functions = [{\n",
    "        'name': 'get_item_info',\n",
    "        'description': '获取时间范围内某个产品的信息',\n",
    "        'parameters': {\n",
    "            'type': 'object',\n",
    "            'properties': {\n",
    "                'item': {\n",
    "                    'type': 'string',\n",
    "                    'description':\n",
    "                    '产品名称',\n",
    "                },\n",
    "                'start': {\n",
    "                    'type': 'string',\n",
    "                    'description':\n",
    "                    '时间范围的起始时间'\n",
    "                },\n",
    "                'end': {\n",
    "                    'type': 'string',\n",
    "                    'description':\n",
    "                    '时间范围的结束时间'\n",
    "                },\n",
    "            },\n",
    "            'required': ['event', 'start', 'end'],\n",
    "        }\n",
<<<<<<< HEAD
    "    }]\n",
    "\n",
    "llm = llm.bind_tools(functions, tool_choice='auto')\n",
    "\n",
=======
    "    }]"
   ]
  },
  {
   "cell_type": "code",
   "execution_count": null,
   "metadata": {},
   "outputs": [],
   "source": [
    "llm = llm.bind_tools(functions)"
   ]
  },
  {
   "cell_type": "code",
   "execution_count": null,
   "metadata": {},
   "outputs": [],
   "source": [
>>>>>>> b24892f54fb556a9ba0ebdb59207dfe785d6703c
    "llm.invoke('2023年1月12至2月1日笔记本的销量')"
   ]
  },
  {
   "cell_type": "code",
<<<<<<< HEAD
   "execution_count": 14,
   "metadata": {},
   "outputs": [
    {
     "data": {
      "text/plain": [
       "AIMessage(content='为了获取去年九月份笔记本的销量信息，我将调用相应的函数来获取数据。这里，“产品名称”是“笔记本”，“时间范围的起始时间”是去年九月的第一天，而“时间范围的结束时间”是去年九月的最后一天。\\n\\n首先，我们需要确定具体的日期。假设今天是2023年3月，那么去年九月的第一天是2022年9月1日，而去年九月的最后一天是2022年9月30日。\\n\\n现在，我将调用函数来获取这些信息。\\n', additional_kwargs={'tool_calls': [{'id': 'chatcmpl-tool-25ee5000325b4b0ba6d2f8ffde5ea340', 'function': {'arguments': '{\"item\": \"笔记本\", \"start\": \"2022-09-01\", \"end\": \"2022-09-30\"}', 'name': 'get_item_info'}, 'type': 'function'}], 'refusal': None}, response_metadata={'token_usage': {'completion_tokens': 177, 'prompt_tokens': 222, 'total_tokens': 399, 'completion_tokens_details': None, 'prompt_tokens_details': None}, 'model_name': '/data/Qwen2.5-14B-Instruct-AWQ', 'system_fingerprint': None, 'id': 'chatcmpl-2542d36c732d4c6595d7bf24818fb435', 'finish_reason': 'tool_calls', 'logprobs': None}, id='run-838e84d0-013b-443c-85fe-897d534882e0-0', tool_calls=[{'name': 'get_item_info', 'args': {'item': '笔记本', 'start': '2022-09-01', 'end': '2022-09-30'}, 'id': 'chatcmpl-tool-25ee5000325b4b0ba6d2f8ffde5ea340', 'type': 'tool_call'}], usage_metadata={'input_tokens': 222, 'output_tokens': 177, 'total_tokens': 399, 'input_token_details': {}, 'output_token_details': {}})"
      ]
     },
     "execution_count": 14,
     "metadata": {},
     "output_type": "execute_result"
    }
   ],
=======
   "execution_count": null,
   "metadata": {},
   "outputs": [],
>>>>>>> b24892f54fb556a9ba0ebdb59207dfe785d6703c
   "source": [
    "llm.invoke('去年九月份笔记本的销量')"
   ]
  },
  {
   "cell_type": "code",
<<<<<<< HEAD
   "execution_count": 15,
   "metadata": {},
   "outputs": [
    {
     "name": "stdout",
     "output_type": "stream",
     "text": [
      "['2024-09-17 00:00:00', '2024-09-17 23:59:59']\n"
     ]
    }
   ],
=======
   "execution_count": null,
   "metadata": {},
   "outputs": [],
>>>>>>> b24892f54fb556a9ba0ebdb59207dfe785d6703c
   "source": [
    "import jionlp\n",
    "query = '去年中秋节的营收多少'\n",
    "def date_extract(query):\n",
    "    date = jionlp.parse_time(query)\n",
    "    return date['time']\n",
    "date = date_extract(query)\n",
    "print(date)"
   ]
  },
  {
   "cell_type": "code",
<<<<<<< HEAD
   "execution_count": 10,
=======
   "execution_count": null,
>>>>>>> b24892f54fb556a9ba0ebdb59207dfe785d6703c
   "metadata": {},
   "outputs": [],
   "source": [
    "date_modify_prompt = '''\n",
    "你是一个日期转换助手，请按照如下格式对用户输入进行转化。\n",
    "\n",
    "用户输入：\n",
    "2023年端午节的订单销量是多少\n",
    "\n",
    "日期：\n",
    "['2023-06-22 00:00:00', '2023-06-22 23:59:59']\n",
    "\n",
    "输出：\n",
    "2023-06-22 00:00:00到2023-06-22 23:59:59的订单销量是多少\n",
    "\n",
    "用户输入：\n",
    "2022年中秋节的营收多少\n",
    "\n",
    "日期：\n",
    "['2022-09-10 00:00:00', '2022-09-10 23:59:59']\n",
    "\n",
    "输出：\n",
    "2022-09-10 00:00:00到2022-09-10 23:59:59营收多少\n",
    "\n",
    "用户输入：\n",
    "{}\n",
    "\n",
    "日期：\n",
    "{}\n",
    "\n",
    "输出：\n",
    "'''"
   ]
  },
  {
   "cell_type": "code",
<<<<<<< HEAD
   "execution_count": 8,
=======
   "execution_count": null,
>>>>>>> b24892f54fb556a9ba0ebdb59207dfe785d6703c
   "metadata": {},
   "outputs": [],
   "source": [
    "from langchain_openai import ChatOpenAI\n",
<<<<<<< HEAD
    "llm = ChatOpenAI(temperature=0, model=\"/data/Qwen2.5-14B-Instruct-AWQ\", api_key=\"nn\", base_url='http://119.119.118.56:8001/v1')"
=======
    "llm = ChatOpenAI(temperature=0, model=\"qwen2\", api_key=\"nn\", base_url='http://10.250.2.23:8600/v1')"
>>>>>>> b24892f54fb556a9ba0ebdb59207dfe785d6703c
   ]
  },
  {
   "cell_type": "code",
<<<<<<< HEAD
   "execution_count": 9,
   "metadata": {},
   "outputs": [
    {
     "name": "stdout",
     "output_type": "stream",
     "text": [
      "2024-01-01 00:00:00到2024-03-31 23:59:59的销量怎么样\n"
     ]
    }
   ],
=======
   "execution_count": null,
   "metadata": {},
   "outputs": [],
>>>>>>> b24892f54fb556a9ba0ebdb59207dfe785d6703c
   "source": [
    "query = '去年第一季度的销量怎么样'\n",
    "modify_query = llm.invoke(date_modify_prompt.format(query, date_extract(query))).content\n",
    "print(modify_query)"
   ]
  }
 ],
 "metadata": {
  "kernelspec": {
<<<<<<< HEAD
   "display_name": "test",
=======
   "display_name": "base",
>>>>>>> b24892f54fb556a9ba0ebdb59207dfe785d6703c
   "language": "python",
   "name": "python3"
  },
  "language_info": {
<<<<<<< HEAD
   "codemirror_mode": {
    "name": "ipython",
    "version": 3
   },
   "file_extension": ".py",
   "mimetype": "text/x-python",
   "name": "python",
   "nbconvert_exporter": "python",
   "pygments_lexer": "ipython3",
   "version": "3.10.0"
=======
   "name": "python",
   "version": "undefined.undefined.undefined"
>>>>>>> b24892f54fb556a9ba0ebdb59207dfe785d6703c
  }
 },
 "nbformat": 4,
 "nbformat_minor": 2
}
